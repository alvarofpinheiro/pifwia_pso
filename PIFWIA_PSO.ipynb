{
  "nbformat": 4,
  "nbformat_minor": 0,
  "metadata": {
    "colab": {
      "name": "PIFWIA_PSO.ipynb",
      "provenance": [],
      "collapsed_sections": [],
      "toc_visible": true,
      "include_colab_link": true
    },
    "kernelspec": {
      "name": "python3",
      "display_name": "Python 3"
    }
  },
  "cells": [
    {
      "cell_type": "markdown",
      "metadata": {
        "id": "view-in-github",
        "colab_type": "text"
      },
      "source": [
        "<a href=\"https://colab.research.google.com/github/alvarofpinheiro/pifwia_pso/blob/main/PIFWIA_PSO.ipynb\" target=\"_parent\"><img src=\"https://colab.research.google.com/assets/colab-badge.svg\" alt=\"Open In Colab\"/></a>"
      ]
    },
    {
      "cell_type": "markdown",
      "source": [
        "Particle Swarm Optimization (PSO) algoritmo de Inteligência Computacional utilizado para otimização utilizando o conceito de enxame de partículas, sendo um método computacional que otimiza um problema tentando melhorar iterativamente uma solução candidata em relação a uma determinada medida de qualidade. Ele resolve um problema tendo uma população de soluções candidatas, aqui chamadas de partículas, e movendo essas partículas no espaço de busca de acordo com uma fórmula matemática simples sobre a posição e a velocidade da partícula. O movimento de cada partícula é influenciado por sua melhor posição local conhecida, mas também é guiado para as melhores posições conhecidas no espaço de busca, que são atualizadas à medida que as melhores posições são encontradas por outras partículas. Espera-se que isso mova o enxame em direção às melhores soluções.\n",
        "\n",
        "Bonyadi, M. R.; Michalewicz, Z. Particle swarm optimization for single objective continuous space problems: a review. Evolutionary Computation. 25 (1): 1–54. PMID 26953883. S2CID 8783143. https://doi.org/10.1162/EVCO_r_00180, 2017.\n",
        "\n",
        "Pseudo-código:\n",
        "\n",
        "```\n",
        "do\n",
        "  for each particle\n",
        "    calculate fitness value\n",
        "    if new fitness value is better than the personal best\n",
        "      set current fitness value as a new personal best\n",
        "  end\n",
        "  update global best\n",
        "  for each particle\n",
        "    calculate particle velocity\n",
        "    update particle position\n",
        "  end\n",
        "while maximum iterations is not attained\n",
        "```\n",
        "\n",
        "## Sphere Function\n",
        "\n",
        "$F_{Sphere} = \\sum_{i=1}^{D} x_i^2$\n",
        "\n",
        "## Cálculo da Velocidade\n",
        "$ {v}^{t+1}_{i,d}= {\\omega}{v}^{t}_{i,d}+ {c_1}{rand_1} \\otimes ({pbest}^{t}_{i,d}-{x}_{t}^{p}) + {c_2}{rand_2}\\otimes ({gbest}^{t}_{i,d}-{x}^{t}_{i,d})$\n",
        "\n",
        "## Atualização da Posição da Partícula\n",
        "$\\mathbf{x}^{t+1}_{p}=\\mathbf{x}^{t}_{p}+ \\mathbf{v}^{t+1}_p$"
      ],
      "metadata": {
        "id": "RE07CxFhzLow"
      }
    },
    {
      "cell_type": "code",
      "metadata": {
        "id": "0P6tBY50QOHR"
      },
      "source": [
        "#Bibliotecas\n",
        "import random\n",
        "import matplotlib.pyplot as plt\n",
        "import numpy as np"
      ],
      "execution_count": null,
      "outputs": []
    },
    {
      "cell_type": "code",
      "metadata": {
        "id": "c7emkmqOKqx5"
      },
      "source": [
        "#Particula\n",
        "#Indivíduo da população ou enxame.\n",
        "#Cada partícula possui uma determinada posição no espaço de busca do problema e esta posição representa uma solução em potencial para o problema tratado.\n",
        "\n",
        "class Particula:\n",
        "  def __init__(self):\n",
        "        self.lista_posicao = []\n",
        "        self.lista_velocidade = []\n",
        "        self.fitness = np.inf\n",
        "        self.fitness_pbest = np.inf\n",
        "        self.lista_posicao_pbest = []        "
      ],
      "execution_count": null,
      "outputs": []
    },
    {
      "cell_type": "code",
      "metadata": {
        "id": "5KtWKiPBN-3L"
      },
      "source": [
        "#Atributos PSO\n",
        "#Coeficiente de inercia (𝑤): determina o quanto a velocidade anterior influencia na velocidade atual;\n",
        "#Fator de individualidade (𝑐1): Influencia na atração que a partícula tem em direção à melhor posição já encontrada por ela mesma (𝑃𝑏𝑒𝑠𝑡);\n",
        "#Fator de sociabilidade (𝑐2): Influencia na atração que a partícula tem em direção à melhor posição já encontrada por qualquer partícula vizinha a ela (𝐿𝑏𝑒𝑠𝑡);\n",
        "#Limite (bound): Determina os valores maximos e minimos do espaço de busca;\n",
        "#Velocidade Máxima\n",
        "#Dimensão: Determina a quantidade de dimensões do problema\n",
        "#Quantidade de Particulas\n",
        "#Quantidade de Iterações\n",
        "#Swarm: População\n",
        "\n",
        "w = 0.8 #coeficiente de inércia\n",
        "c1 = 2.05 #fator de individualidade\n",
        "c2 = 2.05 #fator de sociabilidade\n",
        "bound = [-100,100]\n",
        "velocidade_max = [-6,6]\n",
        "dimensao = 30 #2\n",
        "numero_particulas = 30 #2\n",
        "qtd_iteracoes = 10000 #2\n",
        "swarm = []"
      ],
      "execution_count": null,
      "outputs": []
    },
    {
      "cell_type": "code",
      "metadata": {
        "id": "r9wb0JXfPeVv"
      },
      "source": [
        "#Inicialização do enxame\n",
        "\n",
        "for i in range(numero_particulas):\n",
        "  p = Particula()\n",
        "  for i in range (dimensao):\n",
        "    p.lista_posicao.append(random.uniform(bound[0], bound[1]))\n",
        "    #print(p.lista_posicao)\n",
        "    p.lista_velocidade.append(random.uniform(velocidade_max[0], velocidade_max[1]))\n",
        "    #print(p.lista_velocidade)\n",
        "  swarm.append(p)\n",
        "  #print(p)\n",
        "  #print(swarm)"
      ],
      "execution_count": null,
      "outputs": []
    },
    {
      "cell_type": "code",
      "metadata": {
        "id": "LusDIW1ZQzY-"
      },
      "source": [
        "#Exibir o enxame\n",
        "\n",
        "#print(numero_particulas)\n",
        "for i in range (numero_particulas): #(numero_particulas):\n",
        "    #print(i)\n",
        "    #print(swarm[i])\n",
        "    p = swarm[i]\n",
        "    #print(p)\n",
        "    #print(p.lista_posicao)\n",
        "    d1,d2,d3,d4,d5,d6,d7,d8,d9,d10,d11,d12,d13,d14,d15,d16,d17,d18,d19,d20,d21,d22,d23,d24,d25,d26,d27,d28,d29,d30 = zip(p.lista_posicao)\n",
        "    plt.plot(d1,d2,d3,d4,d5,d6,d7,d8,d9,d10,d11,d12,d13,d14,d15,d16,d17,d18,d19,d20,d21,d22,d23,d24,d25,d26,d27,d28,d29,d30, marker='o')\n",
        "plt.plot(0,0, marker='*')\n",
        "plt.axis([-100, 100, -100, 100])\n",
        "plt.show()"
      ],
      "execution_count": null,
      "outputs": []
    },
    {
      "cell_type": "code",
      "metadata": {
        "id": "oj7vzU9GVEkO"
      },
      "source": [
        "#Função fitness\n",
        "\n",
        "def funcao_fitness(lista_solucao):\n",
        "  total = 0\n",
        "  for i in range (dimensao):\n",
        "      total += lista_solucao[i]**2\n",
        "  return total"
      ],
      "execution_count": null,
      "outputs": []
    },
    {
      "cell_type": "code",
      "metadata": {
        "id": "KyjuwRnMczeY"
      },
      "source": [
        "#Cálculo Fitness\n",
        "\n",
        "def calculo_fitness(particula):\n",
        "  particula.fitness = funcao_fitness(particula.lista_posicao)\n",
        "  if (particula.fitness < particula.fitness_pbest):\n",
        "    particula.fitness_pbest = particula.fitness\n",
        "    particula.lista_posicao_pbest = list (particula.lista_posicao)"
      ],
      "execution_count": null,
      "outputs": []
    },
    {
      "cell_type": "code",
      "metadata": {
        "id": "RtHuDfyaWuOU"
      },
      "source": [
        "#Cálculo da velocidade\n",
        "\n",
        "def atualizacao_velocidade_global(particula, lista_gbest):\n",
        "  for i in range(dimensao):\n",
        "    e1 = random.random()\n",
        "    e2 = random.random()\n",
        "    velocidade_cognitiva = c1*e1* (particula.lista_posicao_pbest[i] - particula.lista_posicao[i])\n",
        "    velocidade_social = c2*e2* (lista_gbest[i] - particula.lista_posicao[i])\n",
        "    v = w * particula.lista_velocidade[i] + velocidade_cognitiva + velocidade_social\n",
        "    if v>bound[1]:\n",
        "      v = bound[1]\n",
        "    elif v<bound[0]:\n",
        "      v = bound[0]\n",
        "    particula.lista_velocidade[i] = v"
      ],
      "execution_count": null,
      "outputs": []
    },
    {
      "cell_type": "code",
      "metadata": {
        "id": "S_8cy3xcXsv5"
      },
      "source": [
        "#Atualização da posição da partícula\n",
        "\n",
        "def atualiza_posicao(particula, bound):\n",
        "  for i in range(dimensao):\n",
        "      novo_valor = particula.lista_posicao[i] + particula.lista_velocidade[i]\n",
        "      if novo_valor > bound[1]:\n",
        "          novo_valor =  bound[1]\n",
        "      if novo_valor < bound[0]:\n",
        "          novo_valor = bound[0]\n",
        "      particula.lista_posicao[i] = novo_valor"
      ],
      "execution_count": null,
      "outputs": []
    },
    {
      "cell_type": "code",
      "metadata": {
        "id": "GCM6-mRoVnTE"
      },
      "source": [
        "#PSO\n",
        "\n",
        "fitness_gbest = float('inf')\n",
        "lista_posicao_gbest = []\n",
        "lista_valores_gbest = []\n",
        "for i in range(qtd_iteracoes):\n",
        "  for j in range(numero_particulas):\n",
        "     calculo_fitness(swarm[j])\n",
        "     if  swarm[j].fitness < fitness_gbest:\n",
        "      fitness_gbest = swarm[j].fitness\n",
        "      lista_posicao_gbest = list (swarm[j].lista_posicao)\n",
        "  for j in range(numero_particulas):\n",
        "    atualizacao_velocidade_global(swarm[j],lista_posicao_gbest)\n",
        "    atualiza_posicao(swarm[j],bound)\n",
        "  lista_valores_gbest.append(fitness_gbest)\n",
        "  #EXIBE O SWARM\n",
        "  for i in range(numero_particulas):\n",
        "    p = swarm[i]\n",
        "    d1,d2,d3,d4,d5,d6,d7,d8,d9,d10,d11,d12,d13,d14,d15,d16,d17,d18,d19,d20,d21,d22,d23,d24,d25,d26,d27,d28,d29,d30 = zip(p.lista_posicao)\n",
        "    plt.plot(d1,d2,d3,d4,d5,d6,d7,d8,d9,d10,d11,d12,d13,d14,d15,d16,d17,d18,d19,d20,d21,d22,d23,d24,d25,d26,d27,d28,d29,d30, marker='o')\n",
        "  #ponto ideal\n",
        "  plt.plot(0,0, marker='*')\n",
        "  #ponto gbest\n",
        "  plt.plot(lista_posicao_gbest[0],lista_posicao_gbest[1], marker='x')\n",
        "  plt.axis([-100, 100, -100, 100])\n",
        "  plt.show()\n"
      ],
      "execution_count": null,
      "outputs": []
    },
    {
      "cell_type": "code",
      "metadata": {
        "id": "8AjSw-7nf0EA"
      },
      "source": [
        "#Resultado\n",
        "\n",
        "plt.plot(lista_valores_gbest)\n",
        "plt.title(\"Convergence Curve of the PSO\")\n",
        "plt.xlabel(\"Iterations\")\n",
        "plt.ylabel(\"Best Fitness\")\n",
        "plt.tight_layout()\n",
        "\n",
        "print('Valor gbest:',fitness_gbest)\n"
      ],
      "execution_count": null,
      "outputs": []
    }
  ]
}