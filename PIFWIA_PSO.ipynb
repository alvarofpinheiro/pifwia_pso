{
  "nbformat": 4,
  "nbformat_minor": 0,
  "metadata": {
    "colab": {
      "name": "PIFWIA_PSO.ipynb",
      "provenance": [],
      "collapsed_sections": [],
      "include_colab_link": true
    },
    "kernelspec": {
      "name": "python3",
      "display_name": "Python 3"
    }
  },
  "cells": [
    {
      "cell_type": "markdown",
      "metadata": {
        "id": "view-in-github",
        "colab_type": "text"
      },
      "source": [
        "<a href=\"https://colab.research.google.com/github/alvarofpinheiro/pifwia_pso/blob/main/PIFWIA_PSO.ipynb\" target=\"_parent\"><img src=\"https://colab.research.google.com/assets/colab-badge.svg\" alt=\"Open In Colab\"/></a>"
      ]
    },
    {
      "cell_type": "markdown",
      "source": [
        "PSO - Particle Swarm Optimization ou Otimização por Enxame de Partículas uma metaheurística proposta pelos pesquisadores Kennedy e Eberhart em 1995 para resolver problemas de otimização inspirado no comportamento das particulas, buscando melhorar a solução candidata com aplicação de uma dada medida de qualidade.\n",
        "\n",
        "Kennedy, J.; Eberhart, R.  Particle swarm optimization. IEEE Xplore. https://doi.org/10.1109/ICNN.1995.488968, 1995."
      ],
      "metadata": {
        "id": "sruVYEs_QcZ9"
      }
    },
    {
      "cell_type": "code",
      "source": [
        "#instala biblioteca Orange Canvas\n",
        "!pip install Orange3"
      ],
      "metadata": {
        "id": "S_4svt6IqIgl"
      },
      "execution_count": null,
      "outputs": []
    },
    {
      "cell_type": "code",
      "source": [
        "#importa bibliotecas\n",
        "import Orange\n",
        "import random\n",
        "import numpy as np\n",
        "from numpy.random import choice\n",
        "import matplotlib.pyplot as plt\n",
        "from sklearn import metrics"
      ],
      "metadata": {
        "id": "T946lxCFQ-1_"
      },
      "execution_count": null,
      "outputs": []
    },
    {
      "cell_type": "code",
      "source": [
        "#define os hiperparâmetros\n",
        "DIMENSOES = 2 #determina a quantidade de dimensões do problema\n",
        "ITERACOES = 200 #quantiddade máxima de ciclos defindo quantas explorações serão feitas (episódios)\n",
        "POPULACAO = 20 #tamanho da população correspondente ao número de partículas na espaço de busca\n",
        "E1 = -15 #extremo esquerdo eixo x\n",
        "E2 = 15 #extremo direito eixo x\n",
        "E3 = -100 #extremo inferior eixo y\n",
        "E4 = 100 #extremo superior eixo y\n",
        "LIMITES = [E3,E4] #(bound) determina os valores maximos e minimos do espaço de busca (região de busca)\n",
        "FCUSTO = 'rosenbrock' #(fitness) função custo que pode ser uma esfera ou parábola (rosenbrock) ou outra função custo que defina a densidade de partículas na região de busca\n",
        "CI = 0.8 #(𝑤) coeficiente de inercia que determina o quanto a velocidade anterior influencia na velocidade atual\n",
        "FI = 2.05 #(𝑐1) fator de individualidade que influencia na atração que a partícula tem em direção à melhor posição já encontrada por ela mesma (𝑃𝑏𝑒𝑠𝑡)\n",
        "FS = 2.05 #(𝑐2) fator de sociabilidade que influencia na atração que a partícula tem em direção à melhor posição já encontrada por qualquer partícula vizinha a ela (𝐿𝑏𝑒𝑠𝑡)\n",
        "VM = [-5,5] #velocidade máxima\n",
        "PARTICULAS = [] #(swarm) array da criação das particulas"
      ],
      "metadata": {
        "id": "yVarFsKnRQu4"
      },
      "execution_count": null,
      "outputs": []
    },
    {
      "cell_type": "code",
      "source": [
        "#importa dados\n",
        "from google.colab import files  \n",
        "files.upload()"
      ],
      "metadata": {
        "id": "6JKcQIVFlGIh"
      },
      "execution_count": null,
      "outputs": []
    },
    {
      "cell_type": "code",
      "source": [
        "#instancia objeto de dados com base no caminho gerado na importação do arquivo\n",
        "dados = Orange.data.Table(\"/content/dados.csv\")"
      ],
      "metadata": {
        "id": "_JF3SQTilOx_"
      },
      "execution_count": null,
      "outputs": []
    },
    {
      "cell_type": "code",
      "source": [
        "#explora os metadados e dados da arquivo importado\n",
        "qtde_campos = len(dados.domain.attributes)\n",
        "qtde_cont = sum(1 for a in dados.domain.attributes if a.is_continuous)\n",
        "qtde_disc = sum(1 for a in dados.domain.attributes if a.is_discrete)\n",
        "print(\"%d metadados: %d continuos, %d discretos\" % (qtde_campos, qtde_cont, qtde_disc))\n",
        "print(\"Nome dos metadados:\", \", \".join(dados.domain.attributes[i].name for i in range(qtde_campos)),)\n",
        "dados.domain.attributes #explora os domínios dos atributos (campos da base de dados)\n",
        "print(\"Qtde de Registros:\", len(dados)) #explora os dados (quantidade de registros da base de dados)\n",
        "i = 0 #exibe os primeiros registros para análise dos dados importados\n",
        "for d in dados[:20]:\n",
        "  i += 1\n",
        "  print(i, d)"
      ],
      "metadata": {
        "id": "JKR26iApldN-"
      },
      "execution_count": null,
      "outputs": []
    },
    {
      "cell_type": "code",
      "source": [
        "#cria arrays das dimensões do problema a ser otimizado\n",
        "periodo = []\n",
        "complexidade = [] #1-muito baixa complexidade;2-baixa complexidade;3-média complexidade;4-alta complexidade;e,5-muito alta complexidade\n",
        "pagina = []\n",
        "prazo = []\n",
        "revisao = []\n",
        "entrega = []\n",
        "i = 0\n",
        "for d in dados[:POPULACAO]:\n",
        "  periodo.append(d[1])\n",
        "  complexidade.append(d[2])\n",
        "  pagina.append(d[3])\n",
        "  prazo.append(d[4])\n",
        "  revisao.append(d[5])\n",
        "  entrega.append(d[6])\n",
        "  print(\"id:\",i,\"período:\",periodo[i],\"complexidade:\",complexidade[i],\"página:\",pagina[i],\"prazo:\",prazo[i],\"revisões:\",revisao[i],\"entrega:\",entrega[i])\n",
        "  i += 1"
      ],
      "metadata": {
        "id": "gSv1kL8dRODD"
      },
      "execution_count": null,
      "outputs": []
    },
    {
      "cell_type": "code",
      "source": [
        "#função custo ou objetivo ou aptidão ou otimização ou fitness - usada para buscar o melhor ponto dentro de um espaço de buscao (melhor global) sem ficar preso em um melhor local\n",
        "def fitness(problema, posicoes, alfa=0, beta=0):\n",
        "  total = 0.0\n",
        "  if problema == 'rosenbrock':\n",
        "    for i in range(DIMENSOES-1):\n",
        "      total += 100*(posicoes[i+1] - posicoes[i]**2)**2 + (1-posicoes[i])**2\n",
        "  elif problema == 'esfera':\n",
        "    for i in range(DIMENSOES):\n",
        "      total += posicoes[i]**2\n",
        "  elif problema == 'custo':\n",
        "    for i in range(DIMENSOES-1):\n",
        "      total += 1 / abs(sum([coord ** 2 for coord in posicao]))\n",
        "  elif problema == 'rota':\n",
        "    denominador = sum([(caminho.feromonio)**alfa * (1 / caminho.comprimento)**beta for caminho in posicoes])\n",
        "    distribuicao_probabilidades = None\n",
        "    if denominador == 0:\n",
        "      distribuicao_probabilidades = [1 / len(posicoes)  for _ in posicoes]\n",
        "    else:\n",
        "      distribuicao_probabilidades = [((caminho.feromonio)**alfa * (1 / caminho.comprimento)**beta) / denominador for caminho in posicoes]\n",
        "    total = choice(posicoes, 1, p=distribuicao_probabilidades)[0]\n",
        "  else:\n",
        "    print('Problema não encontrado!')\n",
        "  return total"
      ],
      "metadata": {
        "id": "HmUe9iHUeS2P"
      },
      "execution_count": null,
      "outputs": []
    },
    {
      "cell_type": "code",
      "source": [
        "#particula - unidade base da otimização, posicionada numa determinada posição no espaço de busca do problema, representando uma solução em potencial para o problema\n",
        "class Particula:\n",
        "  def __init__(self):\n",
        "    self.lista_posicao = []\n",
        "    self.lista_velocidade = []\n",
        "    self.fitness = np.inf\n",
        "    self.fitness_pbest = np.inf\n",
        "    self.lista_posicao_pbest = []"
      ],
      "metadata": {
        "id": "mB5jI82AbqOB"
      },
      "execution_count": null,
      "outputs": []
    },
    {
      "cell_type": "code",
      "source": [
        "#inicializa população (particulas)\n",
        "for i in range(POPULACAO):\n",
        "  cpx = complexidade[i]\n",
        "  pag = pagina[i]\n",
        "  p = Particula()\n",
        "  for j in range(DIMENSOES):\n",
        "    if (j == 0):\n",
        "      posicao = cpx\n",
        "    elif (j == 1):\n",
        "      posicao = pag\n",
        "    else:\n",
        "      print('Dimensão não encontrado!')\n",
        "    p.lista_posicao.append(posicao)\n",
        "    p.lista_velocidade.append(random.uniform(VM[0], VM[1]))\n",
        "  PARTICULAS.append(p)\n",
        "for i in range(POPULACAO):\n",
        "  print(\"i:\",i)\n",
        "  print(list(PARTICULAS[i].lista_posicao))\n",
        "  print(list(PARTICULAS[i].lista_posicao_pbest))"
      ],
      "metadata": {
        "id": "-iesZKAKby3X"
      },
      "execution_count": null,
      "outputs": []
    },
    {
      "cell_type": "code",
      "source": [
        "#posiciona as partículas no espaço de busca\n",
        "print(\"Plano Cartesiano\")\n",
        "plt.axis([E1,E2,E3,E4])\n",
        "plt.plot(0,0, marker='*', markersize=15, color='b')\n",
        "for i in range (POPULACAO):\n",
        "  particula = PARTICULAS[i]\n",
        "  d1,d2 = zip(particula.lista_posicao)\n",
        "  plt.plot(d1,d2, marker='o')\n",
        "plt.show()"
      ],
      "metadata": {
        "id": "3QWPoopYhtZj"
      },
      "execution_count": null,
      "outputs": []
    },
    {
      "cell_type": "code",
      "source": [
        "#calcula o fitness\n",
        "def calculo_fitness(particula):\n",
        "  particula.fitness = fitness(FCUSTO, particula.lista_posicao)\n",
        "  if (particula.fitness < particula.fitness_pbest):\n",
        "    particula.fitness_pbest = particula.fitness\n",
        "    particula.lista_posicao_pbest = list(particula.lista_posicao)"
      ],
      "metadata": {
        "id": "IUPQOmSrjYd0"
      },
      "execution_count": null,
      "outputs": []
    },
    {
      "cell_type": "code",
      "source": [
        "#calcula a velocidade\n",
        "def atualizacao_velocidade_global(particula, lista_gbest):\n",
        "  for i in range(DIMENSOES):\n",
        "    ele1 = random.random()\n",
        "    ele2 = random.random()\n",
        "    velocidade_cognitiva = FI*ele1* (particula.lista_posicao_pbest[i] - particula.lista_posicao[i])\n",
        "    velocidade_social = FS*ele2* (lista_gbest[i] - particula.lista_posicao[i])\n",
        "    v = CI * particula.lista_velocidade[i] + velocidade_cognitiva + velocidade_social\n",
        "    if v > LIMITES[1]:\n",
        "      v = LIMITES[1]\n",
        "    elif v < LIMITES[0]:\n",
        "      v = LIMITES[0]\n",
        "    particula.lista_velocidade[i] = v"
      ],
      "metadata": {
        "id": "8XGDWMXGjjax"
      },
      "execution_count": null,
      "outputs": []
    },
    {
      "cell_type": "code",
      "source": [
        "#atualiza a posição da partícula\n",
        "def atualiza_posicao(particula, bound):\n",
        "  for i in range(DIMENSOES):\n",
        "    novo_valor = particula.lista_posicao[i] + particula.lista_velocidade[i]\n",
        "    if novo_valor > bound[1]:\n",
        "      novo_valor =  bound[1]\n",
        "    if novo_valor < bound[0]:\n",
        "      novo_valor = bound[0]\n",
        "    particula.lista_posicao[i] = novo_valor"
      ],
      "metadata": {
        "id": "IFrq6Ctqjmp4"
      },
      "execution_count": null,
      "outputs": []
    },
    {
      "cell_type": "code",
      "source": [
        "#otimiza as posições\n",
        "fitness_gbest = float('inf')\n",
        "lista_posicao_gbest = []\n",
        "lista_melhores_valores = []\n",
        "for i in range(ITERACOES):\n",
        "  print(\"Iteração: {:.0f}\".format(i+1))\n",
        "  for j in range(POPULACAO):\n",
        "    calculo_fitness(PARTICULAS[j])\n",
        "    if  PARTICULAS[j].fitness < fitness_gbest:\n",
        "     fitness_gbest = PARTICULAS[j].fitness\n",
        "     lista_posicao_gbest = list(PARTICULAS[j].lista_posicao)\n",
        "  for j in range(POPULACAO):\n",
        "    atualizacao_velocidade_global(PARTICULAS[j],lista_posicao_gbest)\n",
        "    atualiza_posicao(PARTICULAS[j],LIMITES)\n",
        "  lista_melhores_valores.append(fitness_gbest)\n",
        "  plt.axis([E1,E2,E3,E4])\n",
        "  plt.plot(0,0, marker='*', markersize=10, color='b')\n",
        "  for i in range(POPULACAO):\n",
        "    p = PARTICULAS[i]\n",
        "    d1,d2 = zip(p.lista_posicao)\n",
        "    plt.plot(d1,d2, marker='o')\n",
        "  plt.plot(fitness_gbest, marker='x', markersize=15, color='r') #ponto gbest\n",
        "  plt.show()\n",
        "  print('Melhor Ponto:',fitness_gbest)\n",
        "  print(\"\")"
      ],
      "metadata": {
        "id": "2Zo4d8HDSI5O"
      },
      "execution_count": null,
      "outputs": []
    },
    {
      "cell_type": "code",
      "source": [
        "#exibe a curva de convergência das partículas\n",
        "x = []\n",
        "y = []\n",
        "for i in range(len(lista_melhores_valores)):\n",
        "  x.append(i)\n",
        "  y.append(lista_melhores_valores[i])\n",
        "plt.plot(x, y)\n",
        "plt.title(\"Curva de Convergência do PSO\")\n",
        "plt.xlabel(\"Iterações\")\n",
        "plt.ylabel(\"Tempo\")\n",
        "plt.tight_layout()"
      ],
      "metadata": {
        "id": "f6E22dt9ABL5"
      },
      "execution_count": null,
      "outputs": []
    },
    {
      "cell_type": "code",
      "source": [
        "#exibe das posições e otimizações calculadas\n",
        "posicao_inicial = []\n",
        "posicao_otimizada = []\n",
        "for i in range(POPULACAO):\n",
        "  posicao_inicial.append(PARTICULAS[i].lista_posicao)\n",
        "  posicao_otimizada.append(PARTICULAS[i].lista_posicao_pbest)\n",
        "  print(\"i:\",i,\"posição:\",posicao_inicial[i],\"otimização:\",posicao_otimizada[i])\n",
        "#y = []\n",
        "#ỹ = []\n",
        "#for i in range(POPULACAO):\n",
        "#  y.append(int(PARTICULAS[i].lista_posicao[0]))\n",
        "#  ỹ.append(int(PARTICULAS[i].lista_posicao_pbest[0]))\n",
        "#print('A:', metrics.accuracy_score(y,ỹ))\n",
        "#print('P:', metrics.precision_score(y,ỹ,average='macro'))\n",
        "#print('R:', metrics.recall_score(y,ỹ,average='macro'))\n",
        "#print('F:', metrics.f1_score(y,ỹ,average='macro'))"
      ],
      "metadata": {
        "id": "cFyRKFEOjbAv"
      },
      "execution_count": null,
      "outputs": []
    }
  ]
}